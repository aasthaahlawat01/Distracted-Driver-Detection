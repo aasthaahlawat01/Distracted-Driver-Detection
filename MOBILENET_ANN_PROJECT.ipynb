{
  "nbformat": 4,
  "nbformat_minor": 0,
  "metadata": {
    "colab": {
      "provenance": []
    },
    "kernelspec": {
      "name": "python3",
      "display_name": "Python 3"
    },
    "language_info": {
      "name": "python"
    }
  },
  "cells": [
    {
      "cell_type": "code",
      "source": [
        "import kagglehub\n",
        "\n",
        "# Download latest version\n",
        "path = kagglehub.dataset_download(\"mikoaro/distracteddriver\")\n",
        "\n",
        "print(\"Path to dataset files:\", path)\n"
      ],
      "metadata": {
        "id": "lmjus2Gh0S1O",
        "colab": {
          "base_uri": "https://localhost:8080/"
        },
        "outputId": "ddf6599b-d323-4dbf-d10d-7b88b01f7feb"
      },
      "execution_count": null,
      "outputs": [
        {
          "output_type": "stream",
          "name": "stdout",
          "text": [
            "Downloading from https://www.kaggle.com/api/v1/datasets/download/mikoaro/distracteddriver?dataset_version_number=1...\n"
          ]
        },
        {
          "output_type": "stream",
          "name": "stderr",
          "text": [
            "100%|██████████| 4.01G/4.01G [00:55<00:00, 78.1MB/s]"
          ]
        },
        {
          "output_type": "stream",
          "name": "stdout",
          "text": [
            "Extracting files...\n"
          ]
        },
        {
          "output_type": "stream",
          "name": "stderr",
          "text": [
            "\n"
          ]
        },
        {
          "output_type": "stream",
          "name": "stdout",
          "text": [
            "Path to dataset files: /root/.cache/kagglehub/datasets/mikoaro/distracteddriver/versions/1\n"
          ]
        }
      ]
    },
    {
      "cell_type": "code",
      "source": [
        "import torch\n",
        "import torch.nn.functional as F\n",
        "import torchvision.datasets as datasets\n",
        "import torchvision.transforms as transforms\n",
        "from torch import optim\n",
        "from torch import nn\n",
        "from tqdm import tqdm\n",
        "from torch.utils.data import TensorDataset, DataLoader\n",
        "from torch.utils.data import random_split\n"
      ],
      "metadata": {
        "id": "EzwKVmIqOd8h"
      },
      "execution_count": null,
      "outputs": []
    },
    {
      "cell_type": "code",
      "source": [
        "import numpy as np\n",
        "import pandas as pd\n",
        "import random\n",
        "import warnings\n",
        "import matplotlib.pyplot as plt\n",
        "import seaborn as sns\n",
        "import pickle\n",
        "warnings.filterwarnings('ignore')"
      ],
      "metadata": {
        "id": "Y40ie_8kOh2-"
      },
      "execution_count": null,
      "outputs": []
    },
    {
      "cell_type": "code",
      "source": [
        "train_path='/root/.cache/kagglehub/datasets/mikoaro/distracteddriver/versions/1/distracted-driver-detection/train'\n",
        "test_path='/root/.cache/kagglehub/datasets/mikoaro/distracteddriver/versions/1/distracted-driver-detection/test'"
      ],
      "metadata": {
        "id": "I1ghFSQONc_x"
      },
      "execution_count": null,
      "outputs": []
    },
    {
      "cell_type": "code",
      "source": [
        "# Parameters\n",
        "IMG_HEIGHT = 224\n",
        "IMG_WIDTH = 224\n",
        "BATCH_SIZE = 32\n",
        "LEARNING_RATE = 0.001\n",
        "EPOCHS = 10\n",
        "TRAIN_DIR = train_path\n",
        "TEST_DIR = test_path\n",
        "split_ratio=0.2\n",
        "DEVICE = torch.device('cuda' if torch.cuda.is_available() else 'cpu')"
      ],
      "metadata": {
        "id": "X1ccprjYQQBe"
      },
      "execution_count": null,
      "outputs": []
    },
    {
      "cell_type": "code",
      "source": [
        "train_transform = transforms.Compose([\n",
        "    transforms.Resize((IMG_HEIGHT, IMG_WIDTH)),\n",
        "    transforms.RandomHorizontalFlip(),  #for increasing diversity\n",
        "    transforms.RandomRotation(15),\n",
        "    transforms.ToTensor(),      #converting to tensor data\n",
        "    transforms.Normalize(mean=[0.485, 0.456, 0.406], std=[0.229, 0.224, 0.225])  # Normalize\n",
        "])"
      ],
      "metadata": {
        "id": "PsLILBj7jz_M"
      },
      "execution_count": null,
      "outputs": []
    },
    {
      "cell_type": "code",
      "source": [
        "test_transform = transforms.Compose([\n",
        "    transforms.Resize((IMG_HEIGHT, IMG_WIDTH)),\n",
        "    transforms.ToTensor(),\n",
        "    transforms.Normalize(mean=[0.485, 0.456, 0.406], std=[0.229, 0.224, 0.225])  # ImageNet normalization\n",
        "])\n"
      ],
      "metadata": {
        "id": "Dv61NaakQZQS"
      },
      "execution_count": null,
      "outputs": []
    },
    {
      "cell_type": "code",
      "source": [],
      "metadata": {
        "id": "43L6hzWkXpxT"
      },
      "execution_count": null,
      "outputs": []
    },
    {
      "cell_type": "code",
      "source": [],
      "metadata": {
        "id": "4yfJ7HuKXgaK"
      },
      "execution_count": null,
      "outputs": []
    },
    {
      "cell_type": "code",
      "source": [
        "images = datasets.ImageFolder(root=TRAIN_DIR, transform=train_transform)"
      ],
      "metadata": {
        "id": "x0QVZNn2TBxl"
      },
      "execution_count": null,
      "outputs": []
    },
    {
      "cell_type": "code",
      "source": [
        "images.classes"
      ],
      "metadata": {
        "id": "IOubrs2kkhOT",
        "colab": {
          "base_uri": "https://localhost:8080/"
        },
        "outputId": "03480caf-e68c-4768-c3b6-fa32a5865b3a"
      },
      "execution_count": null,
      "outputs": [
        {
          "output_type": "execute_result",
          "data": {
            "text/plain": [
              "['c0', 'c1', 'c2', 'c3', 'c4', 'c5', 'c6', 'c7', 'c8', 'c9']"
            ]
          },
          "metadata": {},
          "execution_count": 9
        }
      ]
    },
    {
      "cell_type": "code",
      "source": [
        "images.class_to_idx"
      ],
      "metadata": {
        "id": "ILwUWi7Pkjwb",
        "colab": {
          "base_uri": "https://localhost:8080/"
        },
        "outputId": "a89ec483-52da-4596-beb4-b0d8927b2a13"
      },
      "execution_count": null,
      "outputs": [
        {
          "output_type": "execute_result",
          "data": {
            "text/plain": [
              "{'c0': 0,\n",
              " 'c1': 1,\n",
              " 'c2': 2,\n",
              " 'c3': 3,\n",
              " 'c4': 4,\n",
              " 'c5': 5,\n",
              " 'c6': 6,\n",
              " 'c7': 7,\n",
              " 'c8': 8,\n",
              " 'c9': 9}"
            ]
          },
          "metadata": {},
          "execution_count": 10
        }
      ]
    },
    {
      "cell_type": "code",
      "source": [
        "type(images)"
      ],
      "metadata": {
        "id": "K5L6OyVqklba",
        "colab": {
          "base_uri": "https://localhost:8080/",
          "height": 218
        },
        "outputId": "0092f477-c445-465d-dd9f-e085a147c698"
      },
      "execution_count": null,
      "outputs": [
        {
          "output_type": "execute_result",
          "data": {
            "text/plain": [
              "torchvision.datasets.folder.ImageFolder"
            ],
            "text/html": [
              "<div style=\"max-width:800px; border: 1px solid var(--colab-border-color);\"><style>\n",
              "      pre.function-repr-contents {\n",
              "        overflow-x: auto;\n",
              "        padding: 8px 12px;\n",
              "        max-height: 500px;\n",
              "      }\n",
              "\n",
              "      pre.function-repr-contents.function-repr-contents-collapsed {\n",
              "        cursor: pointer;\n",
              "        max-height: 100px;\n",
              "      }\n",
              "    </style>\n",
              "    <pre style=\"white-space: initial; background:\n",
              "         var(--colab-secondary-surface-color); padding: 8px 12px;\n",
              "         border-bottom: 1px solid var(--colab-border-color);\"><b>torchvision.datasets.folder.ImageFolder</b><br/>def __init__(root: Union[str, Path], transform: Optional[Callable]=None, target_transform: Optional[Callable]=None, loader: Callable[[str], Any]=default_loader, is_valid_file: Optional[Callable[[str], bool]]=None, allow_empty: bool=False)</pre><pre class=\"function-repr-contents function-repr-contents-collapsed\" style=\"\"><a class=\"filepath\" style=\"display:none\" href=\"#\">/usr/local/lib/python3.10/dist-packages/torchvision/datasets/folder.py</a>A generic data loader where the images are arranged in this way by default: ::\n",
              "\n",
              "    root/dog/xxx.png\n",
              "    root/dog/xxy.png\n",
              "    root/dog/[...]/xxz.png\n",
              "\n",
              "    root/cat/123.png\n",
              "    root/cat/nsdf3.png\n",
              "    root/cat/[...]/asd932_.png\n",
              "\n",
              "This class inherits from :class:`~torchvision.datasets.DatasetFolder` so\n",
              "the same methods can be overridden to customize the dataset.\n",
              "\n",
              "Args:\n",
              "    root (str or ``pathlib.Path``): Root directory path.\n",
              "    transform (callable, optional): A function/transform that takes in a PIL image\n",
              "        and returns a transformed version. E.g, ``transforms.RandomCrop``\n",
              "    target_transform (callable, optional): A function/transform that takes in the\n",
              "        target and transforms it.\n",
              "    loader (callable, optional): A function to load an image given its path.\n",
              "    is_valid_file (callable, optional): A function that takes path of an Image file\n",
              "        and check if the file is a valid file (used to check of corrupt files)\n",
              "    allow_empty(bool, optional): If True, empty folders are considered to be valid classes.\n",
              "        An error is raised on empty folders if False (default).\n",
              "\n",
              " Attributes:\n",
              "    classes (list): List of the class names sorted alphabetically.\n",
              "    class_to_idx (dict): Dict with items (class_name, class_index).\n",
              "    imgs (list): List of (image path, class_index) tuples</pre>\n",
              "      <script>\n",
              "      if (google.colab.kernel.accessAllowed && google.colab.files && google.colab.files.view) {\n",
              "        for (const element of document.querySelectorAll('.filepath')) {\n",
              "          element.style.display = 'block'\n",
              "          element.onclick = (event) => {\n",
              "            event.preventDefault();\n",
              "            event.stopPropagation();\n",
              "            google.colab.files.view(element.textContent, 287);\n",
              "          };\n",
              "        }\n",
              "      }\n",
              "      for (const element of document.querySelectorAll('.function-repr-contents')) {\n",
              "        element.onclick = (event) => {\n",
              "          event.preventDefault();\n",
              "          event.stopPropagation();\n",
              "          element.classList.toggle('function-repr-contents-collapsed');\n",
              "        };\n",
              "      }\n",
              "      </script>\n",
              "      </div>"
            ]
          },
          "metadata": {},
          "execution_count": 11
        }
      ]
    },
    {
      "cell_type": "code",
      "source": [
        "images[0]"
      ],
      "metadata": {
        "id": "huoxAAZRko2O",
        "colab": {
          "base_uri": "https://localhost:8080/"
        },
        "outputId": "f6a7a479-9077-498b-865e-b168189da98a"
      },
      "execution_count": null,
      "outputs": [
        {
          "output_type": "execute_result",
          "data": {
            "text/plain": [
              "(tensor([[[-2.1179, -2.1179, -2.1179,  ..., -2.1179, -2.1179, -2.1179],\n",
              "          [-2.1179, -2.1179, -2.1179,  ..., -2.1179, -2.1179, -2.1179],\n",
              "          [-2.1179, -2.1179, -2.1179,  ..., -2.1179, -2.1179, -2.1179],\n",
              "          ...,\n",
              "          [-2.1179, -2.1179, -2.1179,  ..., -2.1179, -2.1179, -2.1179],\n",
              "          [-2.1179, -2.1179, -2.1179,  ..., -2.1179, -2.1179, -2.1179],\n",
              "          [-2.1179, -2.1179, -2.1179,  ..., -2.1179, -2.1179, -2.1179]],\n",
              " \n",
              "         [[-2.0357, -2.0357, -2.0357,  ..., -2.0357, -2.0357, -2.0357],\n",
              "          [-2.0357, -2.0357, -2.0357,  ..., -2.0357, -2.0357, -2.0357],\n",
              "          [-2.0357, -2.0357, -2.0357,  ..., -2.0357, -2.0357, -2.0357],\n",
              "          ...,\n",
              "          [-2.0357, -2.0357, -2.0357,  ..., -2.0357, -2.0357, -2.0357],\n",
              "          [-2.0357, -2.0357, -2.0357,  ..., -2.0357, -2.0357, -2.0357],\n",
              "          [-2.0357, -2.0357, -2.0357,  ..., -2.0357, -2.0357, -2.0357]],\n",
              " \n",
              "         [[-1.8044, -1.8044, -1.8044,  ..., -1.8044, -1.8044, -1.8044],\n",
              "          [-1.8044, -1.8044, -1.8044,  ..., -1.8044, -1.8044, -1.8044],\n",
              "          [-1.8044, -1.8044, -1.8044,  ..., -1.8044, -1.8044, -1.8044],\n",
              "          ...,\n",
              "          [-1.8044, -1.8044, -1.8044,  ..., -1.8044, -1.8044, -1.8044],\n",
              "          [-1.8044, -1.8044, -1.8044,  ..., -1.8044, -1.8044, -1.8044],\n",
              "          [-1.8044, -1.8044, -1.8044,  ..., -1.8044, -1.8044, -1.8044]]]),\n",
              " 0)"
            ]
          },
          "metadata": {},
          "execution_count": 12
        }
      ]
    },
    {
      "cell_type": "code",
      "source": [
        "len(images)"
      ],
      "metadata": {
        "id": "TG8P7pyNksj9",
        "colab": {
          "base_uri": "https://localhost:8080/"
        },
        "outputId": "1bb3e1ad-c313-4dd1-cdef-b2a4b982ae2e"
      },
      "execution_count": null,
      "outputs": [
        {
          "output_type": "execute_result",
          "data": {
            "text/plain": [
              "22424"
            ]
          },
          "metadata": {},
          "execution_count": 13
        }
      ]
    },
    {
      "cell_type": "code",
      "source": [
        "\n",
        "num_total = len(images)\n",
        "num_val = int(split_ratio* num_total)\n",
        "num_train = num_total - num_val\n",
        "\n",
        "# Split the dataset into training and validation sets\n",
        "train_data, test_data = random_split(images, [num_train, num_val])\n",
        "\n",
        "\n"
      ],
      "metadata": {
        "id": "L-f2ygstoB68"
      },
      "execution_count": null,
      "outputs": []
    },
    {
      "cell_type": "code",
      "source": [
        "\n",
        "print(f\"Number of training samples: {len(train_data)}\")\n",
        "print(f\"Number of validation samples: {len(test_data)}\")"
      ],
      "metadata": {
        "id": "h5zZMZ-fofp1",
        "colab": {
          "base_uri": "https://localhost:8080/"
        },
        "outputId": "a4a3bde8-a714-44e7-8894-3d61152a268c"
      },
      "execution_count": null,
      "outputs": [
        {
          "output_type": "stream",
          "name": "stdout",
          "text": [
            "Number of training samples: 17940\n",
            "Number of validation samples: 4484\n"
          ]
        }
      ]
    },
    {
      "cell_type": "code",
      "source": [
        "# DataLoaders for training and validation\n",
        "train_loader = DataLoader(train_data, batch_size=BATCH_SIZE, shuffle=True)\n",
        "test_loader = DataLoader(test_data, batch_size=BATCH_SIZE, shuffle=False)"
      ],
      "metadata": {
        "id": "4_sTmqy5oods"
      },
      "execution_count": null,
      "outputs": []
    },
    {
      "cell_type": "code",
      "source": [
        "from torchvision import datasets, models, transforms"
      ],
      "metadata": {
        "id": "73qgNY7bYsuX"
      },
      "execution_count": null,
      "outputs": []
    },
    {
      "cell_type": "markdown",
      "source": [],
      "metadata": {
        "id": "67O-hITl9IPr"
      }
    },
    {
      "cell_type": "code",
      "source": [
        "# Load pre-trained MobileNetV2\n",
        "model = models.mobilenet_v2(pretrained=True)\n",
        "\n",
        "# Modify the classifier to match the number of classes\n",
        "model.classifier[1] = nn.Linear(model.last_channel, 10)\n",
        "\n",
        "# Move the model to the device\n",
        "model = model.to(DEVICE)\n",
        "\n",
        "\n",
        "\n"
      ],
      "metadata": {
        "id": "KYx04KiTQmY1"
      },
      "execution_count": null,
      "outputs": []
    },
    {
      "cell_type": "code",
      "source": [
        "def train_model(model, train_loader, test_loader, epochs=5, learning_rate=0.001):\n",
        "    optimizer = optim.Adam(model.parameters(), lr=learning_rate)\n",
        "    criterion = nn.CrossEntropyLoss()\n",
        "\n",
        "    for epoch in range(epochs):\n",
        "        #setting the model to training mode\n",
        "        model.train()\n",
        "        #loss of current epoch\n",
        "        curr_loss = 0\n",
        "        correct_pred=0\n",
        "        total_pred=0\n",
        "\n",
        "        for images, classes in tqdm(train_loader, desc=\"Training\", leave=False):\n",
        "            #clearing the gradients\n",
        "            optimizer.zero_grad()\n",
        "            outputs = model(images)\n",
        "            loss = criterion(outputs, classes )\n",
        "            loss.backward()\n",
        "            optimizer.step()\n",
        "\n",
        "            curr_loss += loss.item()\n",
        "\n",
        "            #the maximum value along the label dimension\n",
        "            value, predicted = torch.max(outputs, 1)\n",
        "            total_pred += classes .size(0)\n",
        "            correct_pred += (predicted == classes).sum().item()\n",
        "\n",
        "        train_accuracy = 100 * correct_pred / total_pred\n",
        "        avg_loss=curr_loss/len(train_loader)\n",
        "\n",
        "        print(f'Epoch {epoch+1}, Average Loss: {avg_loss}, Accuracy: {train_accuracy}')\n",
        "\n",
        "        # evaluation mode\n",
        "        model.eval()\n",
        "        #disable grad computation\n",
        "        with torch.no_grad():\n",
        "\n",
        "            correct_test_pred=0\n",
        "            total_test_pred=0\n",
        "            test_loss = 0\n",
        "\n",
        "            for images, classes in test_loader:\n",
        "                outputs = model(images)\n",
        "                test_loss += criterion(outputs, classes).item()\n",
        "                value, predicted = torch.max(outputs, 1)\n",
        "                total_test_pred += classes.size(0)\n",
        "                correct_test_pred += (predicted == classes).sum().item()\n",
        "\n",
        "            test_accuracy = 100 * correct_test_pred / total_test_pred\n",
        "\n",
        "            print(f'Validation Accuracy: {test_accuracy}')"
      ],
      "metadata": {
        "id": "d5lbS-uqvlAU"
      },
      "execution_count": null,
      "outputs": []
    },
    {
      "cell_type": "code",
      "source": [
        "train_model(model,train_loader,test_loader)"
      ],
      "metadata": {
        "id": "rA_RMe5Ru3en",
        "colab": {
          "base_uri": "https://localhost:8080/"
        },
        "outputId": "ec86576f-6748-4d47-f0da-82dc9efab67d"
      },
      "execution_count": null,
      "outputs": [
        {
          "output_type": "stream",
          "name": "stderr",
          "text": []
        },
        {
          "output_type": "stream",
          "name": "stdout",
          "text": [
            "Epoch 1, Average Loss: 0.3328612997526977, Accuracy: 89.38127090301003\n",
            "Validation Accuracy: 96.07493309545049\n"
          ]
        },
        {
          "output_type": "stream",
          "name": "stderr",
          "text": []
        },
        {
          "output_type": "stream",
          "name": "stdout",
          "text": [
            "Epoch 2, Average Loss: 0.14783094483120582, Accuracy: 95.48494983277592\n",
            "Validation Accuracy: 96.27564674397858\n"
          ]
        },
        {
          "output_type": "stream",
          "name": "stderr",
          "text": []
        },
        {
          "output_type": "stream",
          "name": "stdout",
          "text": [
            "Epoch 3, Average Loss: 0.12255914300578893, Accuracy: 96.24303232998885\n",
            "Validation Accuracy: 97.85905441570027\n"
          ]
        },
        {
          "output_type": "stream",
          "name": "stderr",
          "text": []
        },
        {
          "output_type": "stream",
          "name": "stdout",
          "text": [
            "Epoch 4, Average Loss: 0.0979517441033448, Accuracy: 96.99554069119287\n",
            "Validation Accuracy: 93.7778768956289\n"
          ]
        },
        {
          "output_type": "stream",
          "name": "stderr",
          "text": []
        },
        {
          "output_type": "stream",
          "name": "stdout",
          "text": [
            "Epoch 5, Average Loss: 0.08277901031123391, Accuracy: 97.41360089186176\n",
            "Validation Accuracy: 95.3835860838537\n"
          ]
        }
      ]
    },
    {
      "cell_type": "code",
      "source": [
        "# Save the trained model\n",
        "torch.save(model.state_dict(), 'distracted_driver_model6.pth')\n"
      ],
      "metadata": {
        "id": "A-_PYIPSRB0O"
      },
      "execution_count": null,
      "outputs": []
    },
    {
      "cell_type": "code",
      "source": [],
      "metadata": {
        "id": "9XSFbVQzvzML"
      },
      "execution_count": null,
      "outputs": []
    },
    {
      "cell_type": "code",
      "source": [
        "# Load the model\n",
        "model.load_state_dict(torch.load('distracted_driver_model6.pth'))\n",
        "model.eval()\n",
        "\n",
        "# Predict on a single image\n",
        "from PIL import Image\n",
        "\n",
        "def predict(image_path, model, transform):\n",
        "    image = Image.open(image_path).convert('RGB')\n",
        "    image = transform(image).unsqueeze(0).to(DEVICE)  # Add batch dimension\n",
        "    with torch.no_grad():\n",
        "        output = model(image)\n",
        "        _, predicted = torch.max(output, 1)\n",
        "    return predicted.item()\n",
        "\n",
        "image_path = '/content/test_image.jpeg'\n",
        "class_idx = predict(image_path, model, test_transform)\n",
        "class_name = images.classes[class_idx]\n",
        "print(f\"Predicted Class: {class_name}\")\n"
      ],
      "metadata": {
        "id": "kyISPS-HRG0w",
        "colab": {
          "base_uri": "https://localhost:8080/"
        },
        "outputId": "d8d001b2-b282-42a8-8529-877e0b7b87cc"
      },
      "execution_count": null,
      "outputs": [
        {
          "output_type": "stream",
          "name": "stdout",
          "text": [
            "Predicted Class: c1\n"
          ]
        }
      ]
    },
    {
      "cell_type": "code",
      "source": [
        "import matplotlib.pyplot as plt\n",
        "\n",
        "# Data for plotting\n",
        "epochs = [1, 2, 3, 4, 5]\n",
        "train_loss = [0.3328612997526977, 0.14783094483120582, 0.12255914300578893, 0.0979517441033448, 0.08277901031123391]\n",
        "train_accuracy = [89.38127090301003, 95.48494983277592, 96.24303232998885, 96.99554069119287, 97.41360089186176]\n",
        "val_accuracy = [96.07493309545049, 96.27564674397858, 97.85905441570027, 93.7778768956289, 95.3835860838537]\n",
        "\n",
        "# Plot training loss\n",
        "plt.figure(figsize=(10, 5))\n",
        "plt.subplot(1, 2, 1)\n",
        "plt.plot(epochs, train_loss, marker='o', label='Training Loss', color='blue')\n",
        "plt.title('Training Loss over Epochs')\n",
        "plt.xlabel('Epoch')\n",
        "plt.ylabel('Loss')\n",
        "plt.grid()\n",
        "plt.legend()\n",
        "\n",
        "# Plot accuracy\n",
        "plt.subplot(1, 2, 2)\n",
        "plt.plot(epochs, train_accuracy, marker='o', label='Training Accuracy', color='green')\n",
        "plt.plot(epochs, val_accuracy, marker='o', label='Validation Accuracy', color='orange')\n",
        "plt.title('Accuracy over Epochs')\n",
        "plt.xlabel('Epoch')\n",
        "plt.ylabel('Accuracy (%)')\n",
        "plt.grid()\n",
        "plt.legend()\n",
        "\n",
        "plt.tight_layout()\n",
        "plt.show()\n"
      ],
      "metadata": {
        "colab": {
          "base_uri": "https://localhost:8080/",
          "height": 507
        },
        "id": "YZC4q4MbhuRQ",
        "outputId": "ba1a454d-fbfb-4ca3-b6be-6bc51171ecf8"
      },
      "execution_count": null,
      "outputs": [
        {
          "output_type": "display_data",
          "data": {
            "text/plain": [
              "<Figure size 1000x500 with 2 Axes>"
            ],
            "image/png": "[encoded data removed]"
          },
          "metadata": {}
        }
      ]
    },
    {
      "cell_type": "code",
      "source": [
        "# Load the model\n",
        "model.load_state_dict(torch.load('distracted_driver_model6.pth'))\n",
        "from sklearn.metrics import classification_report, confusion_matrix\n",
        "import seaborn as sns\n",
        "\n",
        "# Get predictions on test data\n",
        "model.eval()\n",
        "predictions, true_labels = [], []\n",
        "with torch.no_grad():\n",
        "    for images, labels in test_loader:\n",
        "        images, labels = images.to(DEVICE), labels.to(DEVICE)\n",
        "        outputs = model(images)\n",
        "        _, preds = torch.max(outputs, 1)\n",
        "        predictions.extend(preds.cpu().numpy())\n",
        "        true_labels.extend(labels.cpu().numpy())\n",
        "\n",
        "# Classification report\n",
        "print(classification_report(true_labels, predictions))\n",
        "\n",
        "\n"
      ],
      "metadata": {
        "colab": {
          "base_uri": "https://localhost:8080/"
        },
        "id": "2_XP9m-Rifvj",
        "outputId": "98ef9fe3-093a-4196-dab9-ca5027e9200e"
      },
      "execution_count": null,
      "outputs": [
        {
          "output_type": "stream",
          "name": "stdout",
          "text": [
            "              precision    recall  f1-score   support\n",
            "\n",
            "           0       0.97      0.96      0.96       472\n",
            "           1       0.84      1.00      0.91       465\n",
            "           2       0.94      0.99      0.97       485\n",
            "           3       0.98      0.99      0.98       476\n",
            "           4       0.99      0.99      0.99       517\n",
            "           5       0.99      0.99      0.99       435\n",
            "           6       0.96      1.00      0.98       449\n",
            "           7       0.99      0.96      0.98       387\n",
            "           8       0.98      0.78      0.87       372\n",
            "           9       0.95      0.87      0.91       426\n",
            "\n",
            "    accuracy                           0.96      4484\n",
            "   macro avg       0.96      0.95      0.95      4484\n",
            "weighted avg       0.96      0.96      0.96      4484\n",
            "\n"
          ]
        }
      ]
    },
    {
      "cell_type": "code",
      "source": [
        "# Confusion matrix\n",
        "cm = confusion_matrix(true_labels, predictions)\n",
        "sns.heatmap(cm, annot=True, fmt=\"d\", cmap=\"Blues\", xticklabels=images.classes, yticklabels=images.classes)\n",
        "plt.title(\"Confusion Matrix\")\n",
        "plt.xlabel(\"Predicted\")\n",
        "plt.ylabel(\"True\")\n",
        "plt.show()"
      ],
      "metadata": {
        "colab": {
          "base_uri": "https://localhost:8080/",
          "height": 471
        },
        "id": "vnmkvp_Qjrfx",
        "outputId": "d906d509-58a4-4fc4-acac-88f5306352ff"
      },
      "execution_count": null,
      "outputs": [
        {
          "output_type": "display_data",
          "data": {
            "text/plain": [
              "<Figure size 640x480 with 2 Axes>"
            ],
            "image/png": "[encoded data removed]"
          },
          "metadata": {}
        }
      ]
    }
  ]
}